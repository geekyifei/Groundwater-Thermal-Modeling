{
 "cells": [
  {
   "cell_type": "markdown",
   "metadata": {},
   "source": [
    "Created on Mon Apr 20 16:58:00 2020\n",
    "\n",
    "@author: yifei\n",
    "\n",
    "2-D line heat source with grondwater flow (uniform grid spacing of 1m)😃"
   ]
  },
  {
   "cell_type": "code",
   "execution_count": null,
   "metadata": {},
   "outputs": [],
   "source": [
    "import numpy as np\n",
    "import flopy\n",
    "import os\n",
    "import matplotlib as mpl\n",
    "import matplotlib.pyplot as plt"
   ]
  },
  {
   "cell_type": "markdown",
   "metadata": {},
   "source": [
    "###################################################### MODFLOW Simulation ##############################################################"
   ]
  },
  {
   "cell_type": "markdown",
   "metadata": {},
   "source": [
    "There are always some issues reading the path of the file, so here are some solutions:\n",
    "1. Use double backslash \\\\ to seperate the directories\n",
    "2. Use normal slash /\n",
    "3. Add r (raw) in front of the path"
   ]
  },
  {
   "cell_type": "code",
   "execution_count": null,
   "metadata": {},
   "outputs": [],
   "source": [
    "modelname = 'uniform_linesource'\n",
    "modelpath = r'D:\\Google Drive\\UIUC grad courses\\CEE 599 Master Thesis\\Preliminary model MT3D\\Flopy Model\\Uniform_linesource'\n",
    "mf = flopy.modflow.Modflow(modelname, exe_name='mf2005', model_ws=modelpath)\n",
    "\n",
    "# Model spatial and time discretization\n",
    "Lx = 500.\n",
    "Ly = 300.\n",
    "ztop = 1.\n",
    "zbot = 0.\n",
    "nlay = 1\n",
    "nrow = 300\n",
    "ncol = 500\n",
    "delr = Lx/ncol\n",
    "delc = Ly/nrow"
   ]
  },
  {
   "cell_type": "markdown",
   "metadata": {},
   "source": [
    "DIS package\n",
    "1. We can specify delr, delc and botm as an 1-D numpy array, to have variable-spcaing mesh\n",
    "2. In Flopy, the order is (lay,row,col) with 0-based index; while in GMS it is (k,i,j) starting from index 1\n",
    "3. delr means dx along row. So in the Cartesian coordinate system, this aligns with x-axis"
   ]
  },
  {
   "cell_type": "code",
   "execution_count": null,
   "metadata": {},
   "outputs": [],
   "source": [
    "# create DIS object\n",
    "dis = flopy.modflow.ModflowDis(mf, nlay, nrow, ncol, delr=delr, delc=delc,top=ztop, botm=zbot,steady = True)"
   ]
  },
  {
   "cell_type": "code",
   "execution_count": null,
   "metadata": {},
   "outputs": [],
   "source": [
    "BAS package"
   ]
  },
  {
   "cell_type": "code",
   "execution_count": null,
   "metadata": {},
   "outputs": [],
   "source": [
    "# create BAS object\n",
    "ibound = np.ones((nlay, nrow, ncol), dtype=np.int32)\n",
    "ibound[:, :, 0] = -1\n",
    "ibound[:, :, -1] = -1 #left and right constant head boundary\n",
    "strt = 240* np.ones((nlay, nrow, ncol), dtype=np.float32)\n",
    "strt[:, :, 0] = 250\n",
    "bas = flopy.modflow.ModflowBas(mf, ibound=ibound, strt=strt)"
   ]
  },
  {
   "cell_type": "code",
   "execution_count": null,
   "metadata": {},
   "outputs": [],
   "source": [
    "LPF package"
   ]
  },
  {
   "cell_type": "code",
   "execution_count": null,
   "metadata": {},
   "outputs": [],
   "source": [
    "# Add LPF package to the MODFLOW model\n",
    "hk = 10 * np.ones((nlay,nrow,ncol), dtype=np.float32)\n",
    "lpf = flopy.modflow.ModflowLpf(mf, hk=hk, hani = 1., vka=1., ipakcb=53)"
   ]
  },
  {
   "cell_type": "markdown",
   "metadata": {},
   "source": [
    "Output control package\n",
    "1. the stress period data is a dictionary with a tuple as key and various instructions as value\n",
    "2. The first element of the tuple is the stress period and the second is the timestep\n",
    "3. For instructions, we can print/save head, drawdown, cell budget..etc\n",
    "4. The compact mode is needed for MODPATH and creates way smaller output files"
   ]
  },
  {
   "cell_type": "code",
   "execution_count": null,
   "metadata": {},
   "outputs": [],
   "source": [
    "# Add OC package to the MODFLOW model\n",
    "spd = {(0, 0): ['print head', 'print budget', 'save head', 'save budget']}\n",
    "oc = flopy.modflow.ModflowOc(mf, stress_period_data=spd, compact=True)"
   ]
  },
  {
   "cell_type": "markdown",
   "metadata": {},
   "source": [
    "The generated flow-transport link file should be included in the MT3DMS simulation directory"
   ]
  },
  {
   "cell_type": "code",
   "execution_count": null,
   "metadata": {},
   "outputs": [],
   "source": [
    "# PCG package for matrix computation\n",
    "pcg = flopy.modflow.ModflowPcg(mf)\n",
    "\n",
    "# Creat LMT package to link to MT3DMS\n",
    "lmt = flopy.modflow.ModflowLmt(mf, output_file_name='mt3d_link.ftl')\n",
    "\n",
    "# Write the MODFLOW model input files and check\n",
    "mf.write_input()\n",
    "mf.check()\n",
    "\n",
    "# Run the MODFLOW model\n",
    "success, buff = mf.run_model()"
   ]
  },
  {
   "cell_type": "markdown",
   "metadata": {},
   "source": [
    "###################################################### MT3DMS Simulation ##############################################################"
   ]
  },
  {
   "cell_type": "code",
   "execution_count": null,
   "metadata": {},
   "outputs": [],
   "source": [
    "mt_exe_pth = r'D:\\Hydro modeling\\MT3DMS\\bin\\mt3dms5b.exe'\n",
    "mt_modelpth = r'D:\\Google Drive\\UIUC grad courses\\CEE 599 Master Thesis\\Preliminary model MT3D\\Flopy Model\\Uniform_linesource_MT3D'\n",
    "mt = flopy.mt3d.Mt3dms(modflowmodel=mf, modelname=modelname, exe_name= mt_exe_pth ,ftlfilename='mt3d_link.ftl',model_ws = mt_modelpth)"
   ]
  },
  {
   "cell_type": "code",
   "execution_count": null,
   "metadata": {},
   "outputs": [],
   "source": [
    "# basic transport package\n",
    "porosity = 0.3 \n",
    "output_times = [6.0,60.,360.] #Elasped time at which simulation results are saved, # of entries euqal to nprs\n",
    "species_names = ['Temperature']\n",
    "btn = flopy.mt3d.Mt3dBtn(mt, prsity=porosity, icbund = 1, sconc=273, ncomp=1, perlen = 360, nper=1, nstp = 60, tsmult = 1.0, \n",
    "                         nprs = 3, timprs = output_times, obs = [(0,149,150)], nprobs = 6, cinact = -1, chkmas=True,\n",
    "                         species_names = species_names)\n",
    "\n",
    "# advaction package \n",
    "MMOC = 2 #The modified MOC is used here \n",
    "RK4 = 2\n",
    "adv = flopy.mt3d.Mt3dAdv(mt, mixelm = MMOC, percel=1, itrack = RK4, nplane = 0, nph = 16, npsink = 16)\n",
    "\n",
    "# dispersion package\n",
    "dsp = flopy.mt3d.Mt3dDsp(mt, al=0.00001, trpt=0.1, trpv=0.1, dmcoef=0.065)"
   ]
  },
  {
   "cell_type": "markdown",
   "metadata": {},
   "source": [
    "Source-Sink Mxing Package\n",
    "1. The source-sink mixing data is also a dictionary, with the key value corresponding to the stress period.\n",
    "2. The value is a list of tuples with each encompassing node location, bc and type of bc\n",
    "3. The maximum ssm defined should not exceed mxss"
   ]
  },
  {
   "cell_type": "code",
   "execution_count": null,
   "metadata": {},
   "outputs": [],
   "source": [
    "# source/sink mixing package\n",
    "ssm_data = {}\n",
    "itype = flopy.mt3d.Mt3dSsm.itype_dict()\n",
    "ssm_data[0] = [(0, 149, 149, 1.23, itype['MAS'])]\n",
    "for k in range(nrow):\n",
    "    ssm_data[0].append((0, k, 0, 273.0, itype['CHD']))\n",
    "for k in range(nrow):\n",
    "    ssm_data[0].append((0, k, 499, 273.0, itype['CHD']))    \n",
    "ssm = flopy.mt3d.Mt3dSsm(mt, mxss=1002, stress_period_data=ssm_data)"
   ]
  },
  {
   "cell_type": "code",
   "execution_count": null,
   "metadata": {},
   "outputs": [],
   "source": [
    "#chemical reaction package\n",
    "rct = flopy.mt3d.Mt3dRct(mt, isothm=1, ireact=0, igetsc=0, rhob=1855.0, sp1=2.02381e-4 )\n",
    "\n",
    "# matrix solver package\n",
    "gcg = flopy.mt3d.Mt3dGcg(mt, cclose=1e-4)\n",
    "\n",
    "# write mt3dms input\n",
    "mt.write_input()\n",
    "\n",
    "# run mt3dms\n",
    "mt.run_model()"
   ]
  },
  {
   "cell_type": "markdown",
   "metadata": {},
   "source": [
    "Flopy Plotting Utility\n",
    "1. Head information in .hds, cell Budget in .cbc, concentration in .CNF. (all binary files)\n",
    "2. The plot_arrray() is a wrapper for matplotlib im.show(), thus return a matplotlib quadmesh object\n",
    "3. In previous version of Flopy, someone used ModelMap, but it has been took place by PlotMapView"
   ]
  },
  {
   "cell_type": "code",
   "execution_count": null,
   "metadata": {},
   "outputs": [],
   "source": [
    "#plot MODFLOW head field\n",
    "fname = os.path.join(modelpath, 'uniform_linesource.hds' )\n",
    "hdobj = flopy.utils.HeadFile(fname)\n",
    "head = hdobj.get_data()\n",
    "\n",
    "fig = plt.figure(figsize=(15, 10))\n",
    "ax = fig.add_subplot(1, 1, 1, aspect='equal')\n",
    "mapview = flopy.plot.PlotMapView(model=mf)\n",
    "quadmesh = mapview.plot_array(head, masked_values=[999.], alpha=0.5,cmap=\"viridis\")\n",
    "cb = plt.colorbar(quadmesh, shrink=0.75)\n",
    "\n",
    "#These creates the contour head plot\n",
    "#levels = np.arange(head.min(), head.max(), 1)\n",
    "#contour_set = mapview.contour_array(head, masked_values=[999.], levels=levels)\n",
    "#manual_locations = [(0,150),(50,150),(100,150),(150,150),(200,150),(250,150),(300,150),(350,150),(400,150),(450,150),(500,150)]\n",
    "#ax.clabel(contour_set,inline = 1,fontsize = 10,manual=manual_locations)\n",
    "\n",
    "ax.set_title('head')\n",
    "ax.set_xlim([-0.1,500.1])\n",
    "ax.set_xlabel('x')\n",
    "ax.set_ylabel('y')"
   ]
  },
  {
   "cell_type": "code",
   "execution_count": null,
   "metadata": {},
   "outputs": [],
   "source": [
    "#Plot concentration along a certain axis\n",
    "\n",
    "ucnobj_fp = bf.UcnFile(r'D:\\Google Drive\\UIUC grad courses\\CEE 599 Master Thesis\\Preliminary model MT3D\\Flopy Model\\uniform linesource_MT3D\\MT3D001.UCN')\n",
    "times_f = ucnobj_fp.get_times() #this get an list of the output times as defined in BTN\n",
    "times_f1 = times_f[0] #6 days\n",
    "times_f2 = times_f[1] #60 days\n",
    "times_f3 = times_f[2] #360 days\n",
    "\n",
    "conc1_fp = ucnobj_fp.get_data(totim=times_f1) #get the concentration at all nodes at time1\n",
    "conc2_fp = ucnobj_fp.get_data(totim=times_f2)\n",
    "conc3_fp = ucnobj_fp.get_data(totim=times_f3)\n",
    "\n",
    "plt.plot(x,conc3_fp,'r--',alpha = 0.5,label = 'Flopy')\n",
    "plt.title('t = 360 days')\n",
    "plt.legend()\n",
    "\n",
    "#Plot concentraion map \n",
    "mf = flopy.modflow.Modflow.load(r'D:\\Google Drive\\UIUC grad courses\\CEE 599 Master Thesis\\Preliminary model MT3D\\Flopy Model\\uniform linesource\\uniform_linesource.nam')\n",
    "fig = plt.figure(figsize=(15, 10)) #MODFLOW Nam file need to be loaded to get the desired information\n",
    "\n",
    "ax = fig.add_subplot(1, 1, 1, aspect='equal')\n",
    "mapview = flopy.plot.PlotMapView(model=mf) #The read MODFLOW model is needed here\n",
    "quadmesh = mapview.plot_array(conc3_fp, masked_values=[999.], alpha=0.5,cmap = 'jet')\n",
    "cb = plt.colorbar(quadmesh, shrink=0.75)\n",
    "ax.set_title('conc')\n",
    "ax.set_xlim([0,500])\n",
    "ax.set_xlabel('x')\n",
    "ax.set_ylabel('y')"
   ]
  }
 ],
 "metadata": {
  "kernelspec": {
   "display_name": "Python 3",
   "language": "python",
   "name": "python3"
  },
  "language_info": {
   "codemirror_mode": {
    "name": "ipython",
    "version": 3
   },
   "file_extension": ".py",
   "mimetype": "text/x-python",
   "name": "python",
   "nbconvert_exporter": "python",
   "pygments_lexer": "ipython3",
   "version": "3.7.6"
  }
 },
 "nbformat": 4,
 "nbformat_minor": 4
}
